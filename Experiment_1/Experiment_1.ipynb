{
 "cells": [
  {
   "cell_type": "code",
   "execution_count": 6,
   "id": "8851fde7",
   "metadata": {},
   "outputs": [],
   "source": [
    "import serial\n",
    "import time\n",
    "import numpy as np\n",
    "from itertools import product\n",
    "import random\n",
    "import pandas as pd\n",
    "import os"
   ]
  },
  {
   "cell_type": "code",
   "execution_count": 2,
   "id": "3f90bd16",
   "metadata": {},
   "outputs": [],
   "source": [
    "class Motionstim8:\n",
    "\n",
    "    def __init__(self, freq=22):\n",
    "\n",
    "        # The Motionstim8 device has a serial port\n",
    "        self.serialPort = serial.Serial('COM3') #COM5 on Misha's laptop\n",
    "\n",
    "        # The default main stimulation frequency being used is 20 Hz\n",
    "        self.stimulationFrequency = freq\n",
    "\n",
    "        # The default group stimulation frequency being used is 50 Hz\n",
    "        self.groupStimulationFrequency = 1\n",
    "\n",
    "        # Set the N factor (0 by default)\n",
    "        self.nFactor = 0\n",
    "\n",
    "        # The number of channels in the FES device\n",
    "        self.nChannels = 8\n",
    "\n",
    "        # The device channel modes (singlets)\n",
    "        self.pulseModes = [0] * self.nChannels\n",
    "\n",
    "        # The device pulse widths\n",
    "        self.pulseWidths = [100] * self.nChannels\n",
    "\n",
    "        # The device amplitudes\n",
    "        self.amplitudes = [0] * self.nChannels\n",
    "\n",
    "\n",
    "\n",
    "\n",
    "    def OpenSerialPort(self, comPortName):\n",
    "        # configure the serial connections (the parameters differs on the device you are connecting to)\n",
    "        self.serialPort.port = comPortName\n",
    "        self.serialPort.baudrate = 115200\n",
    "        self.serialPort.parity = serial.PARITY_NONE\n",
    "        self.serialPort.stopbits = serial.STOPBITS_ONE\n",
    "        self.serialPort.bytesize = serial.EIGHTBITS\n",
    "        self.serialPort.timeout = 500\n",
    "        self.serialPort.write_timeout = 500\n",
    "        self.serialPort.xonxoff  = False\n",
    "        self.serialPort.rtscts = False\n",
    "        self.dsrdtr = False\n",
    "\n",
    "        # Open the port if not already opened\n",
    "        if not self.serialPort.is_open:\n",
    "            self.serialPort.open()\n",
    "\n",
    "\n",
    "\n",
    "\n",
    "    def CloseSerialPort(self):\n",
    "        # Close the serial port if it is open\n",
    "        if self.serialPort.is_open:\n",
    "            self.serialPort.close()\n",
    "\n",
    "\n",
    "\n",
    "    def WriteFES(self, bitString):\n",
    "\n",
    "        # Write a bitstring through the open serial port\n",
    "        if self.serialPort.is_open:\n",
    "\n",
    "            # Convert the bit string in to a bytes object\n",
    "            byteString = int(bitString, 2).to_bytes(len(bitString) // 8, byteorder='big')\n",
    "            bytesWritten = self.serialPort.write(byteString)\n",
    "            self.serialPort.flush()\n",
    "\n",
    "        else:\n",
    "            print(\"Error writing to FES device: serial port not opened\")\n",
    "\n",
    "\n",
    "\n",
    "    # A method to initialize the device into Channel List Mode\n",
    "    def InitializeChannelListMode(self):\n",
    "\n",
    "        # Set ts1 and ts2\n",
    "        ts1 = 1000  / self.stimulationFrequency\n",
    "        ts2 = 1000 / self.groupStimulationFrequency\n",
    "\n",
    "        # Compute the group and main times\n",
    "        mainTime = int((ts1 - 1.0) / 0.5)\n",
    "        groupTime = int((ts2 - 1.5) / 0.5)\n",
    "\n",
    "        # Set the active channels according to the input\n",
    "        activeChannelsString = \"11111111\"\n",
    "\n",
    "        # Specify which channels apply the scaler to get lower frequencies (none by default)\n",
    "        lowFrequencyChannelsString = \"00000000\"\n",
    "\n",
    "        # Compute checksum\n",
    "        checksum = (self.nFactor + int(activeChannelsString) + int(lowFrequencyChannelsString) + groupTime + mainTime) % 8\n",
    "\n",
    "        # Convert each parameter to its correct binary representation\n",
    "        mainTimeBinary = \"{0:011b}\".format(mainTime)                              # binary, 11 bit width, 0 padding\n",
    "        nFactorBinary = \"{0:03b}\".format(self.nFactor)                                 # binary, 3 bit width, 0 padding\n",
    "        groupTimeBinary = \"{0:05b}\".format(groupTime)                             # binary, 5 bit width, 0 padding\n",
    "        checksumBinary = \"{0:03b}\".format(checksum)                               # binary, 3 bit width, 0 padding\n",
    "\n",
    "        # Compose the complete bistring\n",
    "        bitString = \"100\"\\\n",
    "                    + checksumBinary\\\n",
    "                    + nFactorBinary[0:2]\\\n",
    "                    + \"0\"\\\n",
    "                    + nFactorBinary[2:3]\\\n",
    "                    + activeChannelsString[0:6]\\\n",
    "                    + \"0\"\\\n",
    "                    + activeChannelsString[6:8]\\\n",
    "                    + lowFrequencyChannelsString[0:5]\\\n",
    "                    + \"0\"\\\n",
    "                    + lowFrequencyChannelsString[5:8]\\\n",
    "                    + \"00\"\\\n",
    "                    + groupTimeBinary[0:2]\\\n",
    "                    + \"0\"\\\n",
    "                    + groupTimeBinary[2:5]\\\n",
    "                    + mainTimeBinary[0:4]\\\n",
    "                    + \"0\"\\\n",
    "                    + mainTimeBinary[4:11]\n",
    "\n",
    "        # Write the bit string\n",
    "        self.WriteFES(bitString)\n",
    "\n",
    "\n",
    "\n",
    "    def UpdateChannelSettings(self, newAmplitudes, newPulses, pulseModes):\n",
    "\n",
    "        # Ensure that the device amplitudes are capped between the safety bounds 0 - 50 mA\n",
    "        for index, amplitude in enumerate(newAmplitudes):\n",
    "\n",
    "            if amplitude > 50:\n",
    "\n",
    "                self.amplitudes[index] = 50\n",
    "\n",
    "            elif amplitude < 0:\n",
    "\n",
    "                self.amplitudes[index] = 0\n",
    "\n",
    "            else:\n",
    "\n",
    "                self.amplitudes[index] = newAmplitudes[index]\n",
    "                \n",
    "        for i, pulse in enumerate(newPulses):\n",
    "            self.pulseWidths[i] = pulse\n",
    "        \n",
    "        \n",
    "        for i, mode in enumerate(pulseModes):\n",
    "            self.pulseModes[i] = mode\n",
    "        \n",
    "            \n",
    "        # Compute checksum\n",
    "        checksum = (np.sum(self.pulseModes) + np.sum(self.pulseWidths) + np.sum(self.amplitudes)) % 32\n",
    "\n",
    "        # Construct the channel settings string\n",
    "        checksumBinary = \"{0:05b}\".format(checksum)\n",
    "\n",
    "        channelSettingsBinary = \"\"\n",
    "        for amplitude, pulseWidth, pulseMode in zip(self.amplitudes, self.pulseWidths, self.pulseModes):\n",
    "\n",
    "            pulseWidthBinary = \"{0:09b}\".format(pulseWidth)\n",
    "            channelSettingBinary = \"0\"\\\n",
    "                                   + \"{0:02b}\".format(pulseMode)\\\n",
    "                                   + \"000\"\\\n",
    "                                   + pulseWidthBinary[0:2]\\\n",
    "                                   + \"0\"\\\n",
    "                                   + pulseWidthBinary[2:9]\\\n",
    "                                   + \"0\"\\\n",
    "                                   + \"{0:07b}\".format(amplitude)\n",
    "\n",
    "            channelSettingsBinary += channelSettingBinary\n",
    "\n",
    "        # Compose the final bitstring\n",
    "        bitString = \"101\" + checksumBinary + channelSettingsBinary\n",
    "\n",
    "        # Write the bit string\n",
    "        self.WriteFES(bitString)\n",
    "\n",
    "\n",
    "    def StopDevice(self):\n",
    "\n",
    "        # Compose the stop command\n",
    "        stopCommandBinary = \"11000000\"\n",
    "\n",
    "        # Write the bit string\n",
    "        self.WriteFES(stopCommandBinary)"
   ]
  },
  {
   "cell_type": "markdown",
   "id": "54f927c1-0262-4780-b45a-975b509e36cc",
   "metadata": {},
   "source": [
    "# Процедура первоначального картирования\n",
    "1. Поиск срединного нерва. \n",
    "- Используйте немного проводящего геля\n",
    "- Сгибание разгибание кисти помогает варьировать ощущения\n",
    "- Устанавливайте комфортную амплитуду, так как во время проведения эксперимента будут предъявляться стимулы с большей шириной, а следовательно и интенсивностью\n",
    "\n",
    "<img src=\"resources/median_nerve.jpg\">\n",
    "\n",
    "2. Просим пациента изучить содержание опросника. Отвечаем на появившиеся вопросы и поясняем термины.\n",
    "3. Варьируем ширину, частоту и длительность. Просто запускаем ячейку c экспериментом.\n",
    "4. Просим пациента заполнить опросник, отмечая зоны ощещений и описывающие слова\n",
    "5. Анализ данных\n"
   ]
  },
  {
   "cell_type": "code",
   "execution_count": 3,
   "id": "f642fb1b",
   "metadata": {
    "scrolled": true
   },
   "outputs": [
    {
     "name": "stdout",
     "output_type": "stream",
     "text": [
      "Set critical amplitude\n"
     ]
    },
    {
     "name": "stdin",
     "output_type": "stream",
     "text": [
      " 10\n",
      " 4\n",
      " 6\n",
      " 5\n",
      " 0\n",
      " n\n"
     ]
    },
    {
     "name": "stdout",
     "output_type": "stream",
     "text": [
      "Stop\n"
     ]
    }
   ],
   "source": [
    "# Start MotionStim8 connection\n",
    "try:\n",
    "    mm=Motionstim8(freq=10)\n",
    "    mm.OpenSerialPort('COM3') #COM5 on Misha's laptop\n",
    "    mm.InitializeChannelListMode()\n",
    "except:\n",
    "    raise Exception('Unable to open serial port for MotionStim8 connection!\\nTry to check MotionStim8 port or reboot kernel.')\n",
    "\n",
    "print('Set critical amplitude')\n",
    "crit_amp = int(input())\n",
    "    \n",
    "while True:\n",
    "    amplitude = input()\n",
    "    if amplitude == 'n':\n",
    "        print('Stop')\n",
    "        break\n",
    "    else:\n",
    "        amplitude = int(amplitude)\n",
    "        \n",
    "    if amplitude <= crit_amp:\n",
    "        mm.UpdateChannelSettings(newAmplitudes=[amplitude], \n",
    "                                 newPulses=[150], \n",
    "                                 pulseModes=[0])\n",
    "    else:\n",
    "        print(f'Too high stimulation amplitude')\n",
    "        continue"
   ]
  },
  {
   "cell_type": "code",
   "execution_count": 7,
   "id": "5adb5aa1",
   "metadata": {},
   "outputs": [
    {
     "name": "stdin",
     "output_type": "stream",
     "text": [
      "Enter subject's ID:\t Sasha\n"
     ]
    }
   ],
   "source": [
    "pulses = [50, 100, 200, 400]\n",
    "freqs = [8, 15, 30, 50, 95]\n",
    "durations = [50, 250, 500]\n",
    "combinations = list(product(pulses, freqs, durations))\n",
    "combinations = random.sample(combinations, len(combinations))\n",
    "# To not face problems with \n",
    "name_csv = input(f\"Enter subject's ID:\\t\") # To correctly asess log files and csvs if needed\n",
    "newpath = f'data/{name_csv}/stimulation_logs'\n",
    "if not os.path.exists(newpath): {os.makedirs(newpath)}\n",
    "log_file = open(f'{newpath}/{name_csv}__{time.strftime(\"%a-%d-%b-%Y-%H-%M-%S\", time.gmtime())}.txt', 'w')"
   ]
  },
  {
   "cell_type": "code",
   "execution_count": null,
   "id": "646b6c30",
   "metadata": {},
   "outputs": [
    {
     "name": "stdout",
     "output_type": "stream",
     "text": [
      "\n",
      "1, Jun-27-09:23:44, pulse: 400mcs, freq: 30Hz, duration: 50ms\n",
      "\n",
      "2, Jun-27-09:28:24, pulse: 400mcs, freq: 30Hz, duration: 500ms\n",
      "\n",
      "3, Jun-27-09:29:35, pulse: 50mcs, freq: 95Hz, duration: 500ms\n",
      "4, Skip combination: (200, 15, 50, 'Jun-27-09:29:36')\n",
      "\n",
      "5, Jun-27-09:29:39, pulse: 400mcs, freq: 95Hz, duration: 500ms\n",
      "\n",
      "6, Jun-27-09:31:06, pulse: 200mcs, freq: 15Hz, duration: 250ms\n",
      "\n",
      "7, Jun-27-09:34:25, pulse: 200mcs, freq: 95Hz, duration: 500ms\n",
      "8, Skip combination: (100, 15, 50, 'Jun-27-09:34:26')\n",
      "9, Skip combination: (400, 15, 50, 'Jun-27-09:34:26')\n",
      "10, Skip combination: (100, 8, 50, 'Jun-27-09:34:26')\n"
     ]
    }
   ],
   "source": [
    "# Previous version without writing in csv\n",
    "''' \n",
    "for i, (pulse, freq, duration) in enumerate(combinations):\n",
    "    cur_time=time.strftime(\"%b-%d-%H:%M:%S\", time.gmtime())\n",
    "    if 1000 / freq > duration:\n",
    "        print(f'{i + 1}, Skip combination: {pulse, freq, duration,cur_time}')\n",
    "        log_file.write(f'{i + 1}, Skipped {cur_time}, pulse: {pulse}mcs, freq: {freq}Hz, duration: {duration}ms\\n')\n",
    "        continue\n",
    "    key = input()\n",
    "    if key == 'n':\n",
    "        log_file.close()\n",
    "        break\n",
    "    cur_time=time.strftime(\"%b-%d-%H:%M:%S\", time.gmtime())\n",
    "    print(f'{i + 1}, {cur_time}, pulse: {pulse}mcs, freq: {freq}Hz, duration: {duration}ms')\n",
    "    log_file.write(f'{i + 1}, {cur_time}, pulse: {pulse}mcs, freq: {freq}Hz, duration: {duration}ms\\n')\n",
    "    mm.stimulationFrequency = freq\n",
    "    mm.InitializeChannelListMode()\n",
    "    time.sleep(0.1)\n",
    "    mm.UpdateChannelSettings(newAmplitudes=[10], newPulses=[pulse], pulseModes=[0])\n",
    "    time.sleep(duration / 1000)\n",
    "    mm.UpdateChannelSettings(newAmplitudes=[0], newPulses=[pulse], pulseModes=[0])\n",
    "else:\n",
    "    log_file.close()\n",
    "'''"
   ]
  },
  {
   "cell_type": "code",
   "execution_count": 8,
   "id": "0db03d2b",
   "metadata": {},
   "outputs": [],
   "source": [
    "# Write-to-csv function\n",
    "def csv_save(dataF, naming_file):\n",
    "    \n",
    "    pd.DataFrame(dataF).to_csv(f'data/{naming_file}/' + naming_file + '.csv', index=False)"
   ]
  },
  {
   "cell_type": "code",
   "execution_count": 10,
   "id": "4cea3ce3-8fbe-45bb-bc8f-cf4732852641",
   "metadata": {},
   "outputs": [
    {
     "name": "stdin",
     "output_type": "stream",
     "text": [
      " 0\n"
     ]
    },
    {
     "name": "stdout",
     "output_type": "stream",
     "text": [
      "Pic: 0, Num: 1, Mar-07 12_04_18, pulse: 200mcs, freq: 95Hz, duration: 250ms\n"
     ]
    },
    {
     "name": "stdin",
     "output_type": "stream",
     "text": [
      " 1\n"
     ]
    },
    {
     "name": "stdout",
     "output_type": "stream",
     "text": [
      "Pic: 1, Num: 2, Mar-07 12_05_40, pulse: 100mcs, freq: 95Hz, duration: 50ms\n"
     ]
    },
    {
     "name": "stdin",
     "output_type": "stream",
     "text": [
      " 2\n"
     ]
    },
    {
     "name": "stdout",
     "output_type": "stream",
     "text": [
      "Pic: 2, Num: 3, Mar-07 12_06_30, pulse: 200mcs, freq: 8Hz, duration: 500ms\n"
     ]
    },
    {
     "name": "stdin",
     "output_type": "stream",
     "text": [
      " 3\n"
     ]
    },
    {
     "name": "stdout",
     "output_type": "stream",
     "text": [
      "Pic: 3, Num: 4, Mar-07 12_10_41, pulse: 200mcs, freq: 50Hz, duration: 500ms\n"
     ]
    },
    {
     "name": "stdin",
     "output_type": "stream",
     "text": [
      " 4\n"
     ]
    },
    {
     "name": "stdout",
     "output_type": "stream",
     "text": [
      "Pic: 4, Num: 5, Mar-07 12_11_59, pulse: 100mcs, freq: 30Hz, duration: 50ms\n"
     ]
    },
    {
     "name": "stdin",
     "output_type": "stream",
     "text": [
      " 5\n"
     ]
    },
    {
     "name": "stdout",
     "output_type": "stream",
     "text": [
      "Pic: 5, Num: 6, Mar-07 12_12_24, pulse: 200mcs, freq: 30Hz, duration: 250ms\n"
     ]
    },
    {
     "name": "stdin",
     "output_type": "stream",
     "text": [
      " 6\n"
     ]
    },
    {
     "name": "stdout",
     "output_type": "stream",
     "text": [
      "Pic: 6, Num: 7, Mar-07 12_13_48, pulse: 100mcs, freq: 8Hz, duration: 500ms\n"
     ]
    },
    {
     "name": "stdin",
     "output_type": "stream",
     "text": [
      " 7\n"
     ]
    },
    {
     "name": "stdout",
     "output_type": "stream",
     "text": [
      "Pic: 7, Num: 8, Mar-07 12_14_50, pulse: 400mcs, freq: 8Hz, duration: 500ms\n"
     ]
    },
    {
     "name": "stdin",
     "output_type": "stream",
     "text": [
      " 8\n"
     ]
    },
    {
     "name": "stdout",
     "output_type": "stream",
     "text": [
      "Pic: 8, Num: 9, Mar-07 12_15_53, pulse: 200mcs, freq: 8Hz, duration: 250ms\n"
     ]
    },
    {
     "name": "stdin",
     "output_type": "stream",
     "text": [
      " 9\n"
     ]
    },
    {
     "name": "stdout",
     "output_type": "stream",
     "text": [
      "Pic: 9, Num: 10, Mar-07 12_16_55, pulse: 200mcs, freq: 30Hz, duration: 500ms\n"
     ]
    },
    {
     "name": "stdin",
     "output_type": "stream",
     "text": [
      " 10\n"
     ]
    },
    {
     "name": "stdout",
     "output_type": "stream",
     "text": [
      "Pic: 10, Num: 11, Mar-07 12_18_13, pulse: 100mcs, freq: 95Hz, duration: 500ms\n",
      "Pic: \"\", Num: 12, Skip combination: (100, 8, 50, 'Mar-07 12_18_14')\n"
     ]
    },
    {
     "name": "stdin",
     "output_type": "stream",
     "text": [
      " 11\n"
     ]
    },
    {
     "name": "stdout",
     "output_type": "stream",
     "text": [
      "Pic: 11, Num: 13, Mar-07 12_18_56, pulse: 50mcs, freq: 95Hz, duration: 500ms\n"
     ]
    },
    {
     "name": "stdin",
     "output_type": "stream",
     "text": [
      " 12\n"
     ]
    },
    {
     "name": "stdout",
     "output_type": "stream",
     "text": [
      "Pic: 12, Num: 14, Mar-07 12_19_34, pulse: 50mcs, freq: 30Hz, duration: 500ms\n"
     ]
    },
    {
     "name": "stdin",
     "output_type": "stream",
     "text": [
      " 13\n"
     ]
    },
    {
     "name": "stdout",
     "output_type": "stream",
     "text": [
      "Pic: 13, Num: 15, Mar-07 12_20_18, pulse: 200mcs, freq: 95Hz, duration: 500ms\n"
     ]
    },
    {
     "name": "stdin",
     "output_type": "stream",
     "text": [
      " 14\n"
     ]
    },
    {
     "name": "stdout",
     "output_type": "stream",
     "text": [
      "Pic: 14, Num: 16, Mar-07 12_21_41, pulse: 200mcs, freq: 95Hz, duration: 50ms\n",
      "Pic: \"\", Num: 17, Skip combination: (50, 15, 50, 'Mar-07 12_21_41')\n",
      "Pic: \"\", Num: 18, Skip combination: (400, 8, 50, 'Mar-07 12_21_41')\n"
     ]
    },
    {
     "name": "stdin",
     "output_type": "stream",
     "text": [
      " 15\n"
     ]
    },
    {
     "name": "stdout",
     "output_type": "stream",
     "text": [
      "Pic: 15, Num: 19, Mar-07 12_23_11, pulse: 200mcs, freq: 50Hz, duration: 250ms\n"
     ]
    },
    {
     "name": "stdin",
     "output_type": "stream",
     "text": [
      " 16\n"
     ]
    },
    {
     "name": "stdout",
     "output_type": "stream",
     "text": [
      "Pic: 16, Num: 20, Mar-07 12_24_49, pulse: 200mcs, freq: 15Hz, duration: 250ms\n"
     ]
    },
    {
     "name": "stdin",
     "output_type": "stream",
     "text": [
      " 17\n"
     ]
    },
    {
     "name": "stdout",
     "output_type": "stream",
     "text": [
      "Pic: 17, Num: 21, Mar-07 12_25_48, pulse: 50mcs, freq: 15Hz, duration: 250ms\n"
     ]
    },
    {
     "name": "stdin",
     "output_type": "stream",
     "text": [
      " 18\n"
     ]
    },
    {
     "name": "stdout",
     "output_type": "stream",
     "text": [
      "Pic: 18, Num: 22, Mar-07 12_26_04, pulse: 400mcs, freq: 95Hz, duration: 50ms\n"
     ]
    },
    {
     "name": "stdin",
     "output_type": "stream",
     "text": [
      " 19\n"
     ]
    },
    {
     "name": "stdout",
     "output_type": "stream",
     "text": [
      "Pic: 19, Num: 23, Mar-07 12_27_36, pulse: 100mcs, freq: 95Hz, duration: 250ms\n"
     ]
    },
    {
     "name": "stdin",
     "output_type": "stream",
     "text": [
      " 20\n"
     ]
    },
    {
     "name": "stdout",
     "output_type": "stream",
     "text": [
      "Pic: 20, Num: 24, Mar-07 12_28_38, pulse: 400mcs, freq: 8Hz, duration: 250ms\n"
     ]
    },
    {
     "name": "stdin",
     "output_type": "stream",
     "text": [
      " 21\n"
     ]
    },
    {
     "name": "stdout",
     "output_type": "stream",
     "text": [
      "Pic: 21, Num: 25, Mar-07 12_29_29, pulse: 100mcs, freq: 30Hz, duration: 500ms\n"
     ]
    },
    {
     "name": "stdin",
     "output_type": "stream",
     "text": [
      " 22\n"
     ]
    },
    {
     "name": "stdout",
     "output_type": "stream",
     "text": [
      "Pic: 22, Num: 26, Mar-07 12_30_21, pulse: 50mcs, freq: 30Hz, duration: 250ms\n"
     ]
    },
    {
     "name": "stdin",
     "output_type": "stream",
     "text": [
      " 23\n"
     ]
    },
    {
     "name": "stdout",
     "output_type": "stream",
     "text": [
      "Pic: 23, Num: 27, Mar-07 12_30_32, pulse: 400mcs, freq: 50Hz, duration: 250ms\n"
     ]
    },
    {
     "name": "stdin",
     "output_type": "stream",
     "text": [
      " 24\n"
     ]
    },
    {
     "name": "stdout",
     "output_type": "stream",
     "text": [
      "Pic: 24, Num: 28, Mar-07 12_32_17, pulse: 400mcs, freq: 95Hz, duration: 500ms\n"
     ]
    },
    {
     "name": "stdin",
     "output_type": "stream",
     "text": [
      " 25\n"
     ]
    },
    {
     "name": "stdout",
     "output_type": "stream",
     "text": [
      "Pic: 25, Num: 29, Mar-07 12_34_06, pulse: 100mcs, freq: 50Hz, duration: 250ms\n"
     ]
    },
    {
     "name": "stdin",
     "output_type": "stream",
     "text": [
      " 26\n"
     ]
    },
    {
     "name": "stdout",
     "output_type": "stream",
     "text": [
      "Pic: 26, Num: 30, Mar-07 12_34_54, pulse: 50mcs, freq: 8Hz, duration: 250ms\n"
     ]
    },
    {
     "name": "stdin",
     "output_type": "stream",
     "text": [
      " 27\n"
     ]
    },
    {
     "name": "stdout",
     "output_type": "stream",
     "text": [
      "Pic: 27, Num: 31, Mar-07 12_35_09, pulse: 400mcs, freq: 15Hz, duration: 250ms\n"
     ]
    },
    {
     "name": "stdin",
     "output_type": "stream",
     "text": [
      " 28\n"
     ]
    },
    {
     "name": "stdout",
     "output_type": "stream",
     "text": [
      "Pic: 28, Num: 32, Mar-07 12_36_31, pulse: 400mcs, freq: 30Hz, duration: 50ms\n"
     ]
    },
    {
     "name": "stdin",
     "output_type": "stream",
     "text": [
      " 29\n"
     ]
    },
    {
     "name": "stdout",
     "output_type": "stream",
     "text": [
      "Pic: 29, Num: 33, Mar-07 12_37_32, pulse: 400mcs, freq: 50Hz, duration: 50ms\n"
     ]
    },
    {
     "name": "stdin",
     "output_type": "stream",
     "text": [
      " 30\n"
     ]
    },
    {
     "name": "stdout",
     "output_type": "stream",
     "text": [
      "Pic: 30, Num: 34, Mar-07 12_38_37, pulse: 400mcs, freq: 30Hz, duration: 500ms\n",
      "Pic: \"\", Num: 35, Skip combination: (400, 15, 50, 'Mar-07 12_38_37')\n"
     ]
    },
    {
     "name": "stdin",
     "output_type": "stream",
     "text": [
      " 31\n"
     ]
    },
    {
     "name": "stdout",
     "output_type": "stream",
     "text": [
      "Pic: 31, Num: 36, Mar-07 12_39_59, pulse: 100mcs, freq: 8Hz, duration: 250ms\n"
     ]
    },
    {
     "name": "stdin",
     "output_type": "stream",
     "text": [
      " 32\n"
     ]
    },
    {
     "name": "stdout",
     "output_type": "stream",
     "text": [
      "Pic: 32, Num: 37, Mar-07 12_40_31, pulse: 200mcs, freq: 30Hz, duration: 50ms\n"
     ]
    },
    {
     "name": "stdin",
     "output_type": "stream",
     "text": [
      " 33\n"
     ]
    },
    {
     "name": "stdout",
     "output_type": "stream",
     "text": [
      "Pic: 33, Num: 38, Mar-07 12_41_23, pulse: 200mcs, freq: 50Hz, duration: 50ms\n"
     ]
    },
    {
     "name": "stdin",
     "output_type": "stream",
     "text": [
      " 34\n"
     ]
    },
    {
     "name": "stdout",
     "output_type": "stream",
     "text": [
      "Pic: 34, Num: 39, Mar-07 12_42_20, pulse: 400mcs, freq: 95Hz, duration: 250ms\n"
     ]
    },
    {
     "name": "stdin",
     "output_type": "stream",
     "text": [
      " 35\n"
     ]
    },
    {
     "name": "stdout",
     "output_type": "stream",
     "text": [
      "Pic: 35, Num: 40, Mar-07 12_44_00, pulse: 50mcs, freq: 95Hz, duration: 250ms\n"
     ]
    },
    {
     "name": "stdin",
     "output_type": "stream",
     "text": [
      " 36\n"
     ]
    },
    {
     "name": "stdout",
     "output_type": "stream",
     "text": [
      "Pic: 36, Num: 41, Mar-07 12_44_23, pulse: 50mcs, freq: 8Hz, duration: 500ms\n"
     ]
    },
    {
     "name": "stdin",
     "output_type": "stream",
     "text": [
      " 37\n"
     ]
    },
    {
     "name": "stdout",
     "output_type": "stream",
     "text": [
      "Pic: 37, Num: 42, Mar-07 12_44_35, pulse: 50mcs, freq: 50Hz, duration: 250ms\n"
     ]
    },
    {
     "name": "stdin",
     "output_type": "stream",
     "text": [
      " 38\n"
     ]
    },
    {
     "name": "stdout",
     "output_type": "stream",
     "text": [
      "Pic: 38, Num: 43, Mar-07 12_44_57, pulse: 100mcs, freq: 30Hz, duration: 250ms\n"
     ]
    },
    {
     "name": "stdin",
     "output_type": "stream",
     "text": [
      " 39\n"
     ]
    },
    {
     "name": "stdout",
     "output_type": "stream",
     "text": [
      "Pic: 39, Num: 44, Mar-07 12_45_16, pulse: 50mcs, freq: 30Hz, duration: 50ms\n"
     ]
    },
    {
     "name": "stdin",
     "output_type": "stream",
     "text": [
      " 40\n"
     ]
    },
    {
     "name": "stdout",
     "output_type": "stream",
     "text": [
      "Pic: 40, Num: 45, Mar-07 12_45_25, pulse: 50mcs, freq: 50Hz, duration: 50ms\n"
     ]
    },
    {
     "name": "stdin",
     "output_type": "stream",
     "text": [
      " 41\n"
     ]
    },
    {
     "name": "stdout",
     "output_type": "stream",
     "text": [
      "Pic: 41, Num: 46, Mar-07 12_45_36, pulse: 50mcs, freq: 95Hz, duration: 50ms\n",
      "Pic: \"\", Num: 47, Skip combination: (50, 8, 50, 'Mar-07 12_45_36')\n"
     ]
    },
    {
     "name": "stdin",
     "output_type": "stream",
     "text": [
      " 42\n"
     ]
    },
    {
     "name": "stdout",
     "output_type": "stream",
     "text": [
      "Pic: 42, Num: 48, Mar-07 12_46_07, pulse: 50mcs, freq: 15Hz, duration: 500ms\n"
     ]
    },
    {
     "name": "stdin",
     "output_type": "stream",
     "text": [
      " 43\n"
     ]
    },
    {
     "name": "stdout",
     "output_type": "stream",
     "text": [
      "Pic: 43, Num: 49, Mar-07 12_46_18, pulse: 200mcs, freq: 15Hz, duration: 500ms\n",
      "Pic: \"\", Num: 50, Skip combination: (200, 15, 50, 'Mar-07 12_46_18')\n",
      "Pic: \"\", Num: 51, Skip combination: (100, 15, 50, 'Mar-07 12_46_18')\n"
     ]
    },
    {
     "name": "stdin",
     "output_type": "stream",
     "text": [
      " 44\n"
     ]
    },
    {
     "name": "stdout",
     "output_type": "stream",
     "text": [
      "Pic: 44, Num: 52, Mar-07 12_46_58, pulse: 100mcs, freq: 15Hz, duration: 250ms\n"
     ]
    },
    {
     "name": "stdin",
     "output_type": "stream",
     "text": [
      " 45\n"
     ]
    },
    {
     "name": "stdout",
     "output_type": "stream",
     "text": [
      "Pic: 45, Num: 53, Mar-07 12_47_18, pulse: 100mcs, freq: 50Hz, duration: 500ms\n"
     ]
    },
    {
     "name": "stdin",
     "output_type": "stream",
     "text": [
      " 46\n"
     ]
    },
    {
     "name": "stdout",
     "output_type": "stream",
     "text": [
      "Pic: 46, Num: 54, Mar-07 12_47_37, pulse: 400mcs, freq: 15Hz, duration: 500ms\n",
      "Pic: \"\", Num: 55, Skip combination: (200, 8, 50, 'Mar-07 12_47_37')\n"
     ]
    },
    {
     "name": "stdin",
     "output_type": "stream",
     "text": [
      " 47\n"
     ]
    },
    {
     "name": "stdout",
     "output_type": "stream",
     "text": [
      "Pic: 47, Num: 56, Mar-07 12_48_33, pulse: 400mcs, freq: 50Hz, duration: 500ms\n"
     ]
    },
    {
     "name": "stdin",
     "output_type": "stream",
     "text": [
      " 48\n"
     ]
    },
    {
     "name": "stdout",
     "output_type": "stream",
     "text": [
      "Pic: 48, Num: 57, Mar-07 12_49_40, pulse: 100mcs, freq: 50Hz, duration: 50ms\n"
     ]
    },
    {
     "name": "stdin",
     "output_type": "stream",
     "text": [
      " 49\n"
     ]
    },
    {
     "name": "stdout",
     "output_type": "stream",
     "text": [
      "Pic: 49, Num: 58, Mar-07 12_49_55, pulse: 400mcs, freq: 30Hz, duration: 250ms\n"
     ]
    },
    {
     "name": "stdin",
     "output_type": "stream",
     "text": [
      " 50\n"
     ]
    },
    {
     "name": "stdout",
     "output_type": "stream",
     "text": [
      "Pic: 50, Num: 59, Mar-07 12_50_43, pulse: 100mcs, freq: 15Hz, duration: 500ms\n"
     ]
    },
    {
     "name": "stdin",
     "output_type": "stream",
     "text": [
      " 51\n"
     ]
    },
    {
     "name": "stdout",
     "output_type": "stream",
     "text": [
      "Pic: 51, Num: 60, Mar-07 12_51_50, pulse: 50mcs, freq: 50Hz, duration: 500ms\n"
     ]
    },
    {
     "ename": "OSError",
     "evalue": "Cannot save file into a non-existent directory: 'data\\SashaMar-07---12_02_18-to-Mar-07---12_04_18-to-12_51_50'",
     "output_type": "error",
     "traceback": [
      "\u001b[1;31m---------------------------------------------------------------------------\u001b[0m",
      "\u001b[1;31mOSError\u001b[0m                                   Traceback (most recent call last)",
      "\u001b[1;32m<ipython-input-10-4844d3712fe3>\u001b[0m in \u001b[0;36m<module>\u001b[1;34m\u001b[0m\n\u001b[0;32m     62\u001b[0m     \u001b[0mlog_file\u001b[0m\u001b[1;33m.\u001b[0m\u001b[0mclose\u001b[0m\u001b[1;33m(\u001b[0m\u001b[1;33m)\u001b[0m\u001b[1;33m\u001b[0m\u001b[1;33m\u001b[0m\u001b[0m\n\u001b[0;32m     63\u001b[0m     \u001b[0mname_csv\u001b[0m \u001b[1;33m+=\u001b[0m \u001b[0mstr\u001b[0m\u001b[1;33m(\u001b[0m\u001b[0mtiming\u001b[0m\u001b[1;33m[\u001b[0m\u001b[1;36m1\u001b[0m\u001b[1;33m]\u001b[0m\u001b[1;33m)\u001b[0m\u001b[1;33m\u001b[0m\u001b[1;33m\u001b[0m\u001b[0m\n\u001b[1;32m---> 64\u001b[1;33m     \u001b[0mcsv_save\u001b[0m\u001b[1;33m(\u001b[0m\u001b[0mdata\u001b[0m\u001b[1;33m,\u001b[0m \u001b[0mname_csv\u001b[0m\u001b[1;33m)\u001b[0m\u001b[1;33m\u001b[0m\u001b[1;33m\u001b[0m\u001b[0m\n\u001b[0m",
      "\u001b[1;32m<ipython-input-8-de07c4a97a06>\u001b[0m in \u001b[0;36mcsv_save\u001b[1;34m(dataF, naming_file)\u001b[0m\n\u001b[0;32m      2\u001b[0m \u001b[1;32mdef\u001b[0m \u001b[0mcsv_save\u001b[0m\u001b[1;33m(\u001b[0m\u001b[0mdataF\u001b[0m\u001b[1;33m,\u001b[0m \u001b[0mnaming_file\u001b[0m\u001b[1;33m)\u001b[0m\u001b[1;33m:\u001b[0m\u001b[1;33m\u001b[0m\u001b[1;33m\u001b[0m\u001b[0m\n\u001b[0;32m      3\u001b[0m \u001b[1;33m\u001b[0m\u001b[0m\n\u001b[1;32m----> 4\u001b[1;33m     \u001b[0mpd\u001b[0m\u001b[1;33m.\u001b[0m\u001b[0mDataFrame\u001b[0m\u001b[1;33m(\u001b[0m\u001b[0mdataF\u001b[0m\u001b[1;33m)\u001b[0m\u001b[1;33m.\u001b[0m\u001b[0mto_csv\u001b[0m\u001b[1;33m(\u001b[0m\u001b[1;34mf'data/{naming_file}/'\u001b[0m \u001b[1;33m+\u001b[0m \u001b[0mnaming_file\u001b[0m \u001b[1;33m+\u001b[0m \u001b[1;34m'.csv'\u001b[0m\u001b[1;33m,\u001b[0m \u001b[0mindex\u001b[0m\u001b[1;33m=\u001b[0m\u001b[1;32mFalse\u001b[0m\u001b[1;33m)\u001b[0m\u001b[1;33m\u001b[0m\u001b[1;33m\u001b[0m\u001b[0m\n\u001b[0m",
      "\u001b[1;32m~\\AppData\\Roaming\\Python\\Python38\\site-packages\\pandas\\core\\generic.py\u001b[0m in \u001b[0;36mto_csv\u001b[1;34m(self, path_or_buf, sep, na_rep, float_format, columns, header, index, index_label, mode, encoding, compression, quoting, quotechar, line_terminator, chunksize, date_format, doublequote, escapechar, decimal, errors, storage_options)\u001b[0m\n\u001b[0;32m   3549\u001b[0m         )\n\u001b[0;32m   3550\u001b[0m \u001b[1;33m\u001b[0m\u001b[0m\n\u001b[1;32m-> 3551\u001b[1;33m         return DataFrameRenderer(formatter).to_csv(\n\u001b[0m\u001b[0;32m   3552\u001b[0m             \u001b[0mpath_or_buf\u001b[0m\u001b[1;33m,\u001b[0m\u001b[1;33m\u001b[0m\u001b[1;33m\u001b[0m\u001b[0m\n\u001b[0;32m   3553\u001b[0m             \u001b[0mline_terminator\u001b[0m\u001b[1;33m=\u001b[0m\u001b[0mline_terminator\u001b[0m\u001b[1;33m,\u001b[0m\u001b[1;33m\u001b[0m\u001b[1;33m\u001b[0m\u001b[0m\n",
      "\u001b[1;32m~\\AppData\\Roaming\\Python\\Python38\\site-packages\\pandas\\io\\formats\\format.py\u001b[0m in \u001b[0;36mto_csv\u001b[1;34m(self, path_or_buf, encoding, sep, columns, index_label, mode, compression, quoting, quotechar, line_terminator, chunksize, date_format, doublequote, escapechar, errors, storage_options)\u001b[0m\n\u001b[0;32m   1178\u001b[0m             \u001b[0mformatter\u001b[0m\u001b[1;33m=\u001b[0m\u001b[0mself\u001b[0m\u001b[1;33m.\u001b[0m\u001b[0mfmt\u001b[0m\u001b[1;33m,\u001b[0m\u001b[1;33m\u001b[0m\u001b[1;33m\u001b[0m\u001b[0m\n\u001b[0;32m   1179\u001b[0m         )\n\u001b[1;32m-> 1180\u001b[1;33m         \u001b[0mcsv_formatter\u001b[0m\u001b[1;33m.\u001b[0m\u001b[0msave\u001b[0m\u001b[1;33m(\u001b[0m\u001b[1;33m)\u001b[0m\u001b[1;33m\u001b[0m\u001b[1;33m\u001b[0m\u001b[0m\n\u001b[0m\u001b[0;32m   1181\u001b[0m \u001b[1;33m\u001b[0m\u001b[0m\n\u001b[0;32m   1182\u001b[0m         \u001b[1;32mif\u001b[0m \u001b[0mcreated_buffer\u001b[0m\u001b[1;33m:\u001b[0m\u001b[1;33m\u001b[0m\u001b[1;33m\u001b[0m\u001b[0m\n",
      "\u001b[1;32m~\\AppData\\Roaming\\Python\\Python38\\site-packages\\pandas\\io\\formats\\csvs.py\u001b[0m in \u001b[0;36msave\u001b[1;34m(self)\u001b[0m\n\u001b[0;32m    239\u001b[0m         \"\"\"\n\u001b[0;32m    240\u001b[0m         \u001b[1;31m# apply compression and byte/text conversion\u001b[0m\u001b[1;33m\u001b[0m\u001b[1;33m\u001b[0m\u001b[1;33m\u001b[0m\u001b[0m\n\u001b[1;32m--> 241\u001b[1;33m         with get_handle(\n\u001b[0m\u001b[0;32m    242\u001b[0m             \u001b[0mself\u001b[0m\u001b[1;33m.\u001b[0m\u001b[0mfilepath_or_buffer\u001b[0m\u001b[1;33m,\u001b[0m\u001b[1;33m\u001b[0m\u001b[1;33m\u001b[0m\u001b[0m\n\u001b[0;32m    243\u001b[0m             \u001b[0mself\u001b[0m\u001b[1;33m.\u001b[0m\u001b[0mmode\u001b[0m\u001b[1;33m,\u001b[0m\u001b[1;33m\u001b[0m\u001b[1;33m\u001b[0m\u001b[0m\n",
      "\u001b[1;32m~\\AppData\\Roaming\\Python\\Python38\\site-packages\\pandas\\io\\common.py\u001b[0m in \u001b[0;36mget_handle\u001b[1;34m(path_or_buf, mode, encoding, compression, memory_map, is_text, errors, storage_options)\u001b[0m\n\u001b[0;32m    695\u001b[0m     \u001b[1;31m# Only for write methods\u001b[0m\u001b[1;33m\u001b[0m\u001b[1;33m\u001b[0m\u001b[1;33m\u001b[0m\u001b[0m\n\u001b[0;32m    696\u001b[0m     \u001b[1;32mif\u001b[0m \u001b[1;34m\"r\"\u001b[0m \u001b[1;32mnot\u001b[0m \u001b[1;32min\u001b[0m \u001b[0mmode\u001b[0m \u001b[1;32mand\u001b[0m \u001b[0mis_path\u001b[0m\u001b[1;33m:\u001b[0m\u001b[1;33m\u001b[0m\u001b[1;33m\u001b[0m\u001b[0m\n\u001b[1;32m--> 697\u001b[1;33m         \u001b[0mcheck_parent_directory\u001b[0m\u001b[1;33m(\u001b[0m\u001b[0mstr\u001b[0m\u001b[1;33m(\u001b[0m\u001b[0mhandle\u001b[0m\u001b[1;33m)\u001b[0m\u001b[1;33m)\u001b[0m\u001b[1;33m\u001b[0m\u001b[1;33m\u001b[0m\u001b[0m\n\u001b[0m\u001b[0;32m    698\u001b[0m \u001b[1;33m\u001b[0m\u001b[0m\n\u001b[0;32m    699\u001b[0m     \u001b[1;32mif\u001b[0m \u001b[0mcompression\u001b[0m\u001b[1;33m:\u001b[0m\u001b[1;33m\u001b[0m\u001b[1;33m\u001b[0m\u001b[0m\n",
      "\u001b[1;32m~\\AppData\\Roaming\\Python\\Python38\\site-packages\\pandas\\io\\common.py\u001b[0m in \u001b[0;36mcheck_parent_directory\u001b[1;34m(path)\u001b[0m\n\u001b[0;32m    569\u001b[0m     \u001b[0mparent\u001b[0m \u001b[1;33m=\u001b[0m \u001b[0mPath\u001b[0m\u001b[1;33m(\u001b[0m\u001b[0mpath\u001b[0m\u001b[1;33m)\u001b[0m\u001b[1;33m.\u001b[0m\u001b[0mparent\u001b[0m\u001b[1;33m\u001b[0m\u001b[1;33m\u001b[0m\u001b[0m\n\u001b[0;32m    570\u001b[0m     \u001b[1;32mif\u001b[0m \u001b[1;32mnot\u001b[0m \u001b[0mparent\u001b[0m\u001b[1;33m.\u001b[0m\u001b[0mis_dir\u001b[0m\u001b[1;33m(\u001b[0m\u001b[1;33m)\u001b[0m\u001b[1;33m:\u001b[0m\u001b[1;33m\u001b[0m\u001b[1;33m\u001b[0m\u001b[0m\n\u001b[1;32m--> 571\u001b[1;33m         \u001b[1;32mraise\u001b[0m \u001b[0mOSError\u001b[0m\u001b[1;33m(\u001b[0m\u001b[1;34mrf\"Cannot save file into a non-existent directory: '{parent}'\"\u001b[0m\u001b[1;33m)\u001b[0m\u001b[1;33m\u001b[0m\u001b[1;33m\u001b[0m\u001b[0m\n\u001b[0m\u001b[0;32m    572\u001b[0m \u001b[1;33m\u001b[0m\u001b[0m\n\u001b[0;32m    573\u001b[0m \u001b[1;33m\u001b[0m\u001b[0m\n",
      "\u001b[1;31mOSError\u001b[0m: Cannot save file into a non-existent directory: 'data\\SashaMar-07---12_02_18-to-Mar-07---12_04_18-to-12_51_50'"
     ]
    }
   ],
   "source": [
    "# Stimulation\n",
    "amp = 4\n",
    "picture = 0\n",
    "data = {'Number': [], 'Date': [], 'Time': [], 'Pulse': [],\n",
    "        'Frequency': [], 'Duration': [], 'Value': [], 'Amp': [], 'Picture': []}\n",
    "# name_csv = input(f\"Enter subject's ID:\\t\")\n",
    "\n",
    "for i, (pulse, freq, duration) in enumerate(combinations):\n",
    "    cur_time=time.strftime(\"%b-%d %H_%M_%S\", time.gmtime())\n",
    "    \n",
    "    if 1000 / freq > duration:\n",
    "        print(f'Pic: \"\", Num: {i + 1}, Skip combination: {pulse, freq, duration, cur_time}')\n",
    "        log_file.write(f'{i + 1}, Skipped {cur_time}, pulse: {pulse}mcs, freq: {freq}Hz, duration: {duration}ms\\n')\n",
    "        \n",
    "        timing = cur_time.split(' ')\n",
    "        if i == 0:\n",
    "            name_csv += (str(timing[0]) + '_' + str(timing[1]) + '-to-')\n",
    "        data['Number'].append(i+1)\n",
    "        data['Date'].append(timing[0])\n",
    "        data['Time'].append(timing[1])\n",
    "        data['Pulse'].append(pulse)\n",
    "        data['Frequency'].append(freq)\n",
    "        data['Duration'].append(duration)\n",
    "        data['Value'].append('Skipped')\n",
    "        data['Amp'].append(amp)\n",
    "        data['Picture'].append('')\n",
    "\n",
    "        \n",
    "        continue\n",
    "    picture = input()\n",
    "    if picture == 'n':\n",
    "        log_file.close()\n",
    "        name_csv += str(timing[1])\n",
    "        csv_save(data, name_csv)\n",
    "    \n",
    "        break\n",
    "    \n",
    "    cur_time=time.strftime(\"%b-%d %H_%M_%S\", time.gmtime())    \n",
    "    print(f'Pic: {picture}, Num: {i + 1}, {cur_time}, pulse: {pulse}mcs, freq: {freq}Hz, duration: {duration}ms')\n",
    "    log_file.write(f'{i + 1}, {cur_time}, pulse: {pulse}mcs, freq: {freq}Hz, duration: {duration}ms\\n')\n",
    "\n",
    "    timing = cur_time.split(' ')\n",
    "    if i == 0:\n",
    "        name_csv += (str(timing[0]) + '---' + str(timing[1]) + '-to-')\n",
    "    data['Number'].append(i+1)\n",
    "    data['Date'].append(timing[0])\n",
    "    data['Time'].append(timing[1])\n",
    "    data['Pulse'].append(pulse)\n",
    "    data['Frequency'].append(freq)\n",
    "    data['Duration'].append(duration)\n",
    "    data['Value'].append('Normal')\n",
    "    data['Amp'].append(amp)\n",
    "    data['Picture'].append(picture)\n",
    "    \n",
    "    mm.stimulationFrequency = freq\n",
    "    mm.InitializeChannelListMode()\n",
    "    time.sleep(0.1)\n",
    "    mm.UpdateChannelSettings(newAmplitudes=[amp], newPulses=[pulse], pulseModes=[0])\n",
    "    time.sleep(duration / 1000)\n",
    "    mm.UpdateChannelSettings(newAmplitudes=[0], newPulses=[pulse], pulseModes=[0])\n",
    "else:\n",
    "    log_file.close()\n",
    "    name_csv += str(timing[1])\n",
    "    csv_save(data, name_csv)"
   ]
  },
  {
   "cell_type": "code",
   "execution_count": 18,
   "id": "99a5398f",
   "metadata": {},
   "outputs": [],
   "source": [
    "log_file.close()"
   ]
  },
  {
   "cell_type": "code",
   "execution_count": null,
   "id": "bddae1d5",
   "metadata": {},
   "outputs": [],
   "source": []
  }
 ],
 "metadata": {
  "kernelspec": {
   "display_name": "Python 3",
   "language": "python",
   "name": "python3"
  },
  "language_info": {
   "codemirror_mode": {
    "name": "ipython",
    "version": 3
   },
   "file_extension": ".py",
   "mimetype": "text/x-python",
   "name": "python",
   "nbconvert_exporter": "python",
   "pygments_lexer": "ipython3",
   "version": "3.8.0"
  }
 },
 "nbformat": 4,
 "nbformat_minor": 5
}
