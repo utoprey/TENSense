{
 "cells": [
  {
   "cell_type": "code",
   "execution_count": 1,
   "metadata": {},
   "outputs": [],
   "source": [
    "#%matplotlib qt5\n",
    "\n",
    "import os\n",
    "import re\n",
    "\n",
    "import numpy as np\n",
    "import pandas as pd \n",
    "import matplotlib.pyplot as plt\n",
    "import seaborn as sns\n",
    "\n"
   ]
  },
  {
   "cell_type": "code",
   "execution_count": 24,
   "metadata": {},
   "outputs": [
    {
     "data": {
      "text/plain": [
       "str"
      ]
     },
     "execution_count": 24,
     "metadata": {},
     "output_type": "execute_result"
    }
   ],
   "source": [
    "analysis_direction = os.getcwd()\n",
    "def find_paths(name_exp):\n",
    "    os.chdir('../' + name_exp)\n",
    "    exp = os.getcwd()\n",
    "    os.chdir(analysis_direction)\n",
    "    return exp\n",
    "\n",
    "sets = ['Experiment_1/data',\n",
    "        'Experiment_1/data',\n",
    "        'Experiment_2/session']\n",
    "type(analysis_direction)"
   ]
  },
  {
   "cell_type": "code",
   "execution_count": 25,
   "metadata": {},
   "outputs": [],
   "source": [
    "csvs = []\n",
    "file_paths = {}\n",
    "for (dirpath, dirnames, filenames) in os.walk(experiments_1):\n",
    "    # file_paths['dirpath'] = dirpath\n",
    "    # file_paths['dirpath']['dirnames'] = dirnames\n",
    "    # file_paths['dirpath']['dirnames']['filenames'] = filenames\n",
    "    print(filenames)\n",
    "    break"
   ]
  },
  {
   "attachments": {},
   "cell_type": "markdown",
   "metadata": {},
   "source": [
    "Merging Experiment_1 log in one CSV file"
   ]
  },
  {
   "cell_type": "code",
   "execution_count": null,
   "metadata": {},
   "outputs": [],
   "source": [
    "print('Type log filename:')\n",
    "#Sasha__Tue-07-Mar-2023-12-01-33.txt\n",
    "patient_log_filename = input()\n",
    "\n",
    "try:\n",
    "    experiment_log_file = open(f'../Experiment_1/data/Sasha/stimulation_logs/{patient_log_filename}')\n",
    "    lines = list(filter(lambda x: 'Skipped' not in x, experiment_log_file.readlines()))\n",
    "    \n",
    "    pw = [int(re.search('pulse: (.+?)mcs', line).group(1)) for line in lines]\n",
    "    freq = [int(re.search('freq: (.+?)Hz', line).group(1)) for line in lines]\n",
    "    dur = [int(re.search('duration: (.+?)ms', line).group(1)) for line in lines]\n",
    "    \n",
    "    # We lost last trial for Sasha probable -1 is irrelevant for others\n",
    "    df_to_append = pd.DataFrame([pw, freq, dur], index=['pulseWidth', 'frequency', 'duration']).T[:-1] \n",
    "    display(df_to_append)\n",
    "finally:\n",
    "    experiment_log_file.close()"
   ]
  },
  {
   "attachments": {},
   "cell_type": "markdown",
   "metadata": {},
   "source": [
    "Analysis of sliders values"
   ]
  },
  {
   "cell_type": "code",
   "execution_count": null,
   "metadata": {},
   "outputs": [],
   "source": [
    "print('Type patient ID:')\n",
    "patient_id = input()\n",
    "\n",
    "MAPS_DIR = f'../PerceptMapper/perceptMap/{patient_id}/{patient_id}'\n",
    "\n",
    "PATIENT_CSV_FILENAME = f'{patient_id}_allData.csv'"
   ]
  },
  {
   "cell_type": "code",
   "execution_count": null,
   "metadata": {},
   "outputs": [],
   "source": [
    "patient_df = pd.read_csv(f'{MAPS_DIR}/{PATIENT_CSV_FILENAME}')\n",
    "patient_df = pd.concat([patient_df, df_to_append], axis=1)\n",
    "display(patient_df.head())\n",
    "\n",
    "FIRST_PAGE_SLIDERS = ['naturalSlider', 'maintactileSlider', 'motorSlider']\n",
    "# Grouping by each of three parameters frequency, pulse width, duration\n",
    "\n",
    "# Frequency\n",
    "patient_df_freq_mean = patient_df.groupby('frequency').mean()[FIRST_PAGE_SLIDERS]\n",
    "patient_df_freq_std = patient_df.groupby('frequency').std()[FIRST_PAGE_SLIDERS]\n",
    "patient_df_freq_count = patient_df.groupby('frequency').count()[FIRST_PAGE_SLIDERS]\n",
    "ax = (patient_df_freq / patient_df_freq_count).plot.bar()\n",
    "ax.grid()\n",
    "ax.legend(title='Scores of', labels=['Intensity', 'Naturalness', 'Proprioception'], fontsize=18)\n",
    "ax.get_legend().get_title().set_fontsize('20')\n",
    "ax.set_ylabel('Average tactile intensity', fontsize=22)\n",
    "ax.set_xlabel('Frequency(Hz)', fontsize=22)\n",
    "ax.set_xticklabels(ax.get_xticklabels(), fontsize=18, rotation=0)\n",
    "ax.set_yticklabels(ax.get_yticklabels(), fontsize=18)\n",
    "\n",
    "# Pulse width\n",
    "patient_df_pw_mean = patient_df.groupby('pulseWidth').mean()[FIRST_PAGE_SLIDERS]\n",
    "patient_df_pw_std = patient_df.groupby('pulseWidth').std()[FIRST_PAGE_SLIDERS]\n",
    "patient_df_pw_count = patient_df.groupby('pulseWidth').count()[FIRST_PAGE_SLIDERS]\n",
    "ax = (patient_df_pw_mean / patient_df_pw_count).plot.bar()\n",
    "ax.grid()\n",
    "ax.legend(title='Scores of', labels=['Intensity', 'Naturalness', 'Proprioception'], fontsize=18)\n",
    "ax.get_legend().get_title().set_fontsize('20')\n",
    "ax.set_ylabel('Average tactile intensity', fontsize=22)\n",
    "ax.set_xlabel('Frequency(Hz)', fontsize=22)\n",
    "ax.set_xticklabels(ax.get_xticklabels(), fontsize=18, rotation=0)\n",
    "ax.set_yticklabels(ax.get_yticklabels(), fontsize=18)\n",
    "\n",
    "# Duration\n",
    "patient_df_dur_mean = patient_df.groupby('duration').mean()[FIRST_PAGE_SLIDERS]\n",
    "patient_df_dur_std = patient_df.groupby('duration').std()[FIRST_PAGE_SLIDERS]\n",
    "patient_df_dur_count = patient_df.groupby('duration').count()[FIRST_PAGE_SLIDERS]\n",
    "ax = (patient_df_dur_mean / patient_df_dur_count).plot.bar()\n",
    "ax.grid()\n",
    "ax.legend(title='Scores of', labels=['Intensity', 'Naturalness', 'Proprioception'], fontsize=18)\n",
    "ax.get_legend().get_title().set_fontsize('20')\n",
    "ax.set_ylabel('Average tactile intensity', fontsize=22)\n",
    "ax.set_xlabel('Frequency(Hz)', fontsize=22)\n",
    "ax.set_xticklabels(ax.get_xticklabels(), fontsize=18, rotation=0)\n",
    "ax.set_yticklabels(ax.get_yticklabels(), fontsize=18)"
   ]
  },
  {
   "cell_type": "code",
   "execution_count": null,
   "metadata": {},
   "outputs": [],
   "source": [
    "patient_df_pw_sum = patient_df.groupby('pulseWidth').sum()\n",
    "patient_df_pw_count = patient_df.groupby('pulseWidth').count()\n",
    "display(patient_df_pw_sum / patient_df_pw_count)\n",
    "display(patient_df_pw_count)\n",
    "\n",
    "actual_sliders = (patient_df_pw_sum / patient_df_pw_count)[['Electric Current', 'Hit', 'Intention to Make Movement', 'Itching',\n",
    "       'Muscle contraction', 'Numbness', 'Prickling', 'Pulsation',\n",
    "       'Puncture', 'Squeezing', 'Tickling', 'Time', 'Tingling', 'Touch',\n",
    "       'Twitching', 'Vibration', 'Was Felt']]\n",
    "actual_sliders.plot()"
   ]
  },
  {
   "cell_type": "code",
   "execution_count": null,
   "metadata": {},
   "outputs": [],
   "source": [
    "patient_df_pw_sum"
   ]
  },
  {
   "cell_type": "code",
   "execution_count": null,
   "metadata": {},
   "outputs": [],
   "source": [
    "patient_df.groupby('pulseWidth')"
   ]
  },
  {
   "cell_type": "code",
   "execution_count": null,
   "metadata": {},
   "outputs": [],
   "source": [
    "patient_df_freq_sum = patient_df.groupby('frequency').sum()\n",
    "patient_df_freq_count = patient_df.groupby('frequency').count()\n",
    "display(patient_df_freq_sum / patient_df_freq_count)\n",
    "display(patient_df_freq_count)\n",
    "\n",
    "actual_sliders = (patient_df_freq_sum / patient_df_freq_count)[['Electric Current', 'Hit', 'Intention to Make Movement', 'Itching',\n",
    "       'Muscle contraction', 'Numbness', 'Prickling', 'Pulsation',\n",
    "       'Puncture', 'Squeezing', 'Tickling', 'Time', 'Tingling', 'Touch',\n",
    "       'Twitching', 'Vibration', 'Was Felt']]\n",
    "actual_sliders.plot()"
   ]
  },
  {
   "cell_type": "code",
   "execution_count": null,
   "metadata": {},
   "outputs": [],
   "source": [
    "\n",
    "patient_df_dur_sum = patient_df.groupby('duration').sum()\n",
    "patient_df_dur_count = patient_df.groupby('duration').count()\n",
    "display(patient_df_dur_sum / patient_df_dur_count)\n",
    "display(patient_df_dur_count)\n",
    "\n",
    "actual_sliders = (patient_df_dur_sum / patient_df_dur_count)[['Electric Current', 'Hit', 'Intention to Make Movement', 'Itching',\n",
    "       'Muscle contraction', 'Numbness', 'Prickling', 'Pulsation',\n",
    "       'Puncture', 'Squeezing', 'Tickling', 'Time', 'Tingling', 'Touch',\n",
    "       'Twitching', 'Vibration', 'Was Felt']]\n",
    "actual_sliders.plot()"
   ]
  }
 ],
 "metadata": {
  "kernelspec": {
   "display_name": "Python 3",
   "language": "python",
   "name": "python3"
  },
  "language_info": {
   "codemirror_mode": {
    "name": "ipython",
    "version": 3
   },
   "file_extension": ".py",
   "mimetype": "text/x-python",
   "name": "python",
   "nbconvert_exporter": "python",
   "pygments_lexer": "ipython3",
   "version": "3.9.11"
  },
  "orig_nbformat": 4
 },
 "nbformat": 4,
 "nbformat_minor": 2
}
